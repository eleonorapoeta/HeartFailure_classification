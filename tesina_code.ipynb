{
 "cells": [
  {
   "cell_type": "markdown",
   "metadata": {},
   "source": [
    "# Imports "
   ]
  },
  {
   "cell_type": "code",
   "execution_count": 1,
   "metadata": {},
   "outputs": [],
   "source": [
    "import pandas as pd \n",
    "import seaborn as sns \n",
    "import numpy as np\n",
    "import matplotlib.pyplot as plt\n",
    "from sklearn.neighbors import LocalOutlierFactor\n",
    "from sklearn.preprocessing import StandardScaler, RobustScaler, MaxAbsScaler, OneHotEncoder, MinMaxScaler\n",
    "from sklearn.model_selection import train_test_split, StratifiedKFold, RandomizedSearchCV, GridSearchCV\n",
    "from sklearn.decomposition import PCA\n",
    "from sklearn.ensemble import RandomForestClassifier\n",
    "from sklearn.svm import SVC\n",
    "from sklearn.linear_model import LogisticRegression\n",
    "from imblearn.pipeline import Pipeline as imbpipeline\n",
    "from imblearn.over_sampling import SMOTE, BorderlineSMOTE, SMOTENC\n",
    "from sklearn.metrics import plot_confusion_matrix, plot_roc_curve, classification_report\n"
   ]
  },
  {
   "cell_type": "markdown",
   "metadata": {},
   "source": [
    "# Read the dataset "
   ]
  },
  {
   "cell_type": "code",
   "execution_count": 2,
   "metadata": {},
   "outputs": [
    {
     "data": {
      "text/html": [
       "<div>\n",
       "<style scoped>\n",
       "    .dataframe tbody tr th:only-of-type {\n",
       "        vertical-align: middle;\n",
       "    }\n",
       "\n",
       "    .dataframe tbody tr th {\n",
       "        vertical-align: top;\n",
       "    }\n",
       "\n",
       "    .dataframe thead th {\n",
       "        text-align: right;\n",
       "    }\n",
       "</style>\n",
       "<table border=\"1\" class=\"dataframe\">\n",
       "  <thead>\n",
       "    <tr style=\"text-align: right;\">\n",
       "      <th></th>\n",
       "      <th>age</th>\n",
       "      <th>anaemia</th>\n",
       "      <th>creatinine_phosphokinase</th>\n",
       "      <th>diabetes</th>\n",
       "      <th>ejection_fraction</th>\n",
       "      <th>high_blood_pressure</th>\n",
       "      <th>platelets</th>\n",
       "      <th>serum_creatinine</th>\n",
       "      <th>serum_sodium</th>\n",
       "      <th>sex</th>\n",
       "      <th>smoking</th>\n",
       "      <th>time</th>\n",
       "      <th>DEATH_EVENT</th>\n",
       "    </tr>\n",
       "  </thead>\n",
       "  <tbody>\n",
       "    <tr>\n",
       "      <th>0</th>\n",
       "      <td>75.0</td>\n",
       "      <td>0</td>\n",
       "      <td>582</td>\n",
       "      <td>0</td>\n",
       "      <td>20</td>\n",
       "      <td>1</td>\n",
       "      <td>265000.00</td>\n",
       "      <td>1.9</td>\n",
       "      <td>130</td>\n",
       "      <td>1</td>\n",
       "      <td>0</td>\n",
       "      <td>4</td>\n",
       "      <td>1</td>\n",
       "    </tr>\n",
       "    <tr>\n",
       "      <th>1</th>\n",
       "      <td>55.0</td>\n",
       "      <td>0</td>\n",
       "      <td>7861</td>\n",
       "      <td>0</td>\n",
       "      <td>38</td>\n",
       "      <td>0</td>\n",
       "      <td>263358.03</td>\n",
       "      <td>1.1</td>\n",
       "      <td>136</td>\n",
       "      <td>1</td>\n",
       "      <td>0</td>\n",
       "      <td>6</td>\n",
       "      <td>1</td>\n",
       "    </tr>\n",
       "    <tr>\n",
       "      <th>2</th>\n",
       "      <td>65.0</td>\n",
       "      <td>0</td>\n",
       "      <td>146</td>\n",
       "      <td>0</td>\n",
       "      <td>20</td>\n",
       "      <td>0</td>\n",
       "      <td>162000.00</td>\n",
       "      <td>1.3</td>\n",
       "      <td>129</td>\n",
       "      <td>1</td>\n",
       "      <td>1</td>\n",
       "      <td>7</td>\n",
       "      <td>1</td>\n",
       "    </tr>\n",
       "    <tr>\n",
       "      <th>3</th>\n",
       "      <td>50.0</td>\n",
       "      <td>1</td>\n",
       "      <td>111</td>\n",
       "      <td>0</td>\n",
       "      <td>20</td>\n",
       "      <td>0</td>\n",
       "      <td>210000.00</td>\n",
       "      <td>1.9</td>\n",
       "      <td>137</td>\n",
       "      <td>1</td>\n",
       "      <td>0</td>\n",
       "      <td>7</td>\n",
       "      <td>1</td>\n",
       "    </tr>\n",
       "    <tr>\n",
       "      <th>4</th>\n",
       "      <td>65.0</td>\n",
       "      <td>1</td>\n",
       "      <td>160</td>\n",
       "      <td>1</td>\n",
       "      <td>20</td>\n",
       "      <td>0</td>\n",
       "      <td>327000.00</td>\n",
       "      <td>2.7</td>\n",
       "      <td>116</td>\n",
       "      <td>0</td>\n",
       "      <td>0</td>\n",
       "      <td>8</td>\n",
       "      <td>1</td>\n",
       "    </tr>\n",
       "  </tbody>\n",
       "</table>\n",
       "</div>"
      ],
      "text/plain": [
       "    age  anaemia  creatinine_phosphokinase  diabetes  ejection_fraction  \\\n",
       "0  75.0        0                       582         0                 20   \n",
       "1  55.0        0                      7861         0                 38   \n",
       "2  65.0        0                       146         0                 20   \n",
       "3  50.0        1                       111         0                 20   \n",
       "4  65.0        1                       160         1                 20   \n",
       "\n",
       "   high_blood_pressure  platelets  serum_creatinine  serum_sodium  sex  \\\n",
       "0                    1  265000.00               1.9           130    1   \n",
       "1                    0  263358.03               1.1           136    1   \n",
       "2                    0  162000.00               1.3           129    1   \n",
       "3                    0  210000.00               1.9           137    1   \n",
       "4                    0  327000.00               2.7           116    0   \n",
       "\n",
       "   smoking  time  DEATH_EVENT  \n",
       "0        0     4            1  \n",
       "1        0     6            1  \n",
       "2        1     7            1  \n",
       "3        0     7            1  \n",
       "4        0     8            1  "
      ]
     },
     "execution_count": 2,
     "metadata": {},
     "output_type": "execute_result"
    }
   ],
   "source": [
    "dataframe = pd.read_csv('./data/heart_failure_clinical_records_dataset.csv')\n",
    "dataframe.head(5)"
   ]
  },
  {
   "cell_type": "code",
   "execution_count": 3,
   "metadata": {},
   "outputs": [],
   "source": [
    "dataframe.rename(columns={'DEATH_EVENT' : 'label'}, inplace=True)\n",
    "dataframe.rename(columns={'creatinine_phosphokinase' : 'CPK'}, inplace=True)"
   ]
  },
  {
   "cell_type": "markdown",
   "metadata": {},
   "source": [
    "# Data Cleaning - Missing values and Check of the attributes"
   ]
  },
  {
   "cell_type": "code",
   "execution_count": 4,
   "metadata": {},
   "outputs": [
    {
     "name": "stdout",
     "output_type": "stream",
     "text": [
      "<class 'pandas.core.frame.DataFrame'>\n",
      "RangeIndex: 299 entries, 0 to 298\n",
      "Data columns (total 13 columns):\n",
      " #   Column               Non-Null Count  Dtype  \n",
      "---  ------               --------------  -----  \n",
      " 0   age                  299 non-null    float64\n",
      " 1   anaemia              299 non-null    int64  \n",
      " 2   CPK                  299 non-null    int64  \n",
      " 3   diabetes             299 non-null    int64  \n",
      " 4   ejection_fraction    299 non-null    int64  \n",
      " 5   high_blood_pressure  299 non-null    int64  \n",
      " 6   platelets            299 non-null    float64\n",
      " 7   serum_creatinine     299 non-null    float64\n",
      " 8   serum_sodium         299 non-null    int64  \n",
      " 9   sex                  299 non-null    int64  \n",
      " 10  smoking              299 non-null    int64  \n",
      " 11  time                 299 non-null    int64  \n",
      " 12  label                299 non-null    int64  \n",
      "dtypes: float64(3), int64(10)\n",
      "memory usage: 30.5 KB\n"
     ]
    }
   ],
   "source": [
    "dataframe.info()"
   ]
  },
  {
   "cell_type": "code",
   "execution_count": null,
   "metadata": {},
   "outputs": [],
   "source": [
    "min(dataframe.iloc[:, 6]) , max(dataframe.iloc[:, 6]) #inconsistency in platelets values"
   ]
  },
  {
   "cell_type": "code",
   "execution_count": null,
   "metadata": {},
   "outputs": [],
   "source": [
    "min(dataframe.iloc[:, 8]) , max(dataframe.iloc[:, 8]) #inconsistency Sodium 114 instead of 113"
   ]
  },
  {
   "cell_type": "markdown",
   "metadata": {},
   "source": [
    "Change the value 113 of serum_sodium in 114 since there is only one value"
   ]
  },
  {
   "cell_type": "code",
   "execution_count": 5,
   "metadata": {},
   "outputs": [],
   "source": [
    "dataframe = dataframe.replace({'serum_sodium': 113}, 114)"
   ]
  },
  {
   "cell_type": "code",
   "execution_count": null,
   "metadata": {},
   "outputs": [],
   "source": [
    "min(dataframe.iloc[:, 8]) , max(dataframe.iloc[:, 8]) #inconsistency Sodium 114 instead of 113"
   ]
  },
  {
   "cell_type": "markdown",
   "metadata": {},
   "source": [
    "# Params"
   ]
  },
  {
   "cell_type": "code",
   "execution_count": 6,
   "metadata": {},
   "outputs": [],
   "source": [
    "class Params:\n",
    "    drop_first = True "
   ]
  },
  {
   "cell_type": "markdown",
   "metadata": {},
   "source": [
    "# Manipulation of Categorical Attributes"
   ]
  },
  {
   "cell_type": "markdown",
   "metadata": {},
   "source": [
    "### First change the 0 and 1 with the corresponding string"
   ]
  },
  {
   "cell_type": "code",
   "execution_count": 7,
   "metadata": {},
   "outputs": [
    {
     "data": {
      "text/html": [
       "<div>\n",
       "<style scoped>\n",
       "    .dataframe tbody tr th:only-of-type {\n",
       "        vertical-align: middle;\n",
       "    }\n",
       "\n",
       "    .dataframe tbody tr th {\n",
       "        vertical-align: top;\n",
       "    }\n",
       "\n",
       "    .dataframe thead th {\n",
       "        text-align: right;\n",
       "    }\n",
       "</style>\n",
       "<table border=\"1\" class=\"dataframe\">\n",
       "  <thead>\n",
       "    <tr style=\"text-align: right;\">\n",
       "      <th></th>\n",
       "      <th>age</th>\n",
       "      <th>anaemia</th>\n",
       "      <th>CPK</th>\n",
       "      <th>diabetes</th>\n",
       "      <th>ejection_fraction</th>\n",
       "      <th>high_blood_pressure</th>\n",
       "      <th>platelets</th>\n",
       "      <th>serum_creatinine</th>\n",
       "      <th>serum_sodium</th>\n",
       "      <th>sex</th>\n",
       "      <th>smoking</th>\n",
       "      <th>time</th>\n",
       "      <th>label</th>\n",
       "    </tr>\n",
       "  </thead>\n",
       "  <tbody>\n",
       "    <tr>\n",
       "      <th>0</th>\n",
       "      <td>75.0</td>\n",
       "      <td>no_anaemia</td>\n",
       "      <td>582</td>\n",
       "      <td>no_diabetes</td>\n",
       "      <td>20</td>\n",
       "      <td>HBP</td>\n",
       "      <td>265000.00</td>\n",
       "      <td>1.9</td>\n",
       "      <td>130</td>\n",
       "      <td>male</td>\n",
       "      <td>no_smoking</td>\n",
       "      <td>4</td>\n",
       "      <td>1</td>\n",
       "    </tr>\n",
       "    <tr>\n",
       "      <th>1</th>\n",
       "      <td>55.0</td>\n",
       "      <td>no_anaemia</td>\n",
       "      <td>7861</td>\n",
       "      <td>no_diabetes</td>\n",
       "      <td>38</td>\n",
       "      <td>no_HBP</td>\n",
       "      <td>263358.03</td>\n",
       "      <td>1.1</td>\n",
       "      <td>136</td>\n",
       "      <td>male</td>\n",
       "      <td>no_smoking</td>\n",
       "      <td>6</td>\n",
       "      <td>1</td>\n",
       "    </tr>\n",
       "    <tr>\n",
       "      <th>2</th>\n",
       "      <td>65.0</td>\n",
       "      <td>no_anaemia</td>\n",
       "      <td>146</td>\n",
       "      <td>no_diabetes</td>\n",
       "      <td>20</td>\n",
       "      <td>no_HBP</td>\n",
       "      <td>162000.00</td>\n",
       "      <td>1.3</td>\n",
       "      <td>129</td>\n",
       "      <td>male</td>\n",
       "      <td>smoking</td>\n",
       "      <td>7</td>\n",
       "      <td>1</td>\n",
       "    </tr>\n",
       "  </tbody>\n",
       "</table>\n",
       "</div>"
      ],
      "text/plain": [
       "    age     anaemia   CPK     diabetes  ejection_fraction high_blood_pressure  \\\n",
       "0  75.0  no_anaemia   582  no_diabetes                 20                 HBP   \n",
       "1  55.0  no_anaemia  7861  no_diabetes                 38              no_HBP   \n",
       "2  65.0  no_anaemia   146  no_diabetes                 20              no_HBP   \n",
       "\n",
       "   platelets  serum_creatinine  serum_sodium   sex     smoking  time  label  \n",
       "0  265000.00               1.9           130  male  no_smoking     4      1  \n",
       "1  263358.03               1.1           136  male  no_smoking     6      1  \n",
       "2  162000.00               1.3           129  male     smoking     7      1  "
      ]
     },
     "execution_count": 7,
     "metadata": {},
     "output_type": "execute_result"
    }
   ],
   "source": [
    "dataframe.anaemia = ['no_anaemia' if c == 0 else 'anaemia' for c in dataframe.anaemia]\n",
    "dataframe.diabetes = ['no_diabetes' if c == 0 else 'diabetes' for c in dataframe.diabetes]\n",
    "dataframe.high_blood_pressure = ['no_HBP' if c == 0 else 'HBP' for c in dataframe.high_blood_pressure]  \n",
    "dataframe.sex = ['female' if c == 0 else 'male' for c in dataframe.sex] \n",
    "dataframe.smoking = ['no_smoking' if c == 0 else 'smoking' for c in dataframe.smoking] \n",
    "dataframe.head(3)\n"
   ]
  },
  {
   "cell_type": "markdown",
   "metadata": {},
   "source": [
    "### Then change the type of Categorical attributes columns into 'category'"
   ]
  },
  {
   "cell_type": "code",
   "execution_count": 8,
   "metadata": {},
   "outputs": [
    {
     "name": "stdout",
     "output_type": "stream",
     "text": [
      "<class 'pandas.core.frame.DataFrame'>\n",
      "RangeIndex: 299 entries, 0 to 298\n",
      "Data columns (total 13 columns):\n",
      " #   Column               Non-Null Count  Dtype  \n",
      "---  ------               --------------  -----  \n",
      " 0   age                  299 non-null    float64\n",
      " 1   anaemia              299 non-null    object \n",
      " 2   CPK                  299 non-null    int64  \n",
      " 3   diabetes             299 non-null    object \n",
      " 4   ejection_fraction    299 non-null    int64  \n",
      " 5   high_blood_pressure  299 non-null    object \n",
      " 6   platelets            299 non-null    float64\n",
      " 7   serum_creatinine     299 non-null    float64\n",
      " 8   serum_sodium         299 non-null    int64  \n",
      " 9   sex                  299 non-null    object \n",
      " 10  smoking              299 non-null    object \n",
      " 11  time                 299 non-null    int64  \n",
      " 12  label                299 non-null    int64  \n",
      "dtypes: float64(3), int64(5), object(5)\n",
      "memory usage: 30.5+ KB\n"
     ]
    }
   ],
   "source": [
    "dataframe.info()"
   ]
  },
  {
   "cell_type": "code",
   "execution_count": 9,
   "metadata": {},
   "outputs": [],
   "source": [
    "categorical_columns = ['anaemia', 'diabetes', 'high_blood_pressure', 'sex', 'smoking', 'label']\n",
    "for c in categorical_columns:\n",
    "  dataframe[c] = dataframe[c].astype('category')"
   ]
  },
  {
   "cell_type": "code",
   "execution_count": 10,
   "metadata": {},
   "outputs": [
    {
     "name": "stdout",
     "output_type": "stream",
     "text": [
      "<class 'pandas.core.frame.DataFrame'>\n",
      "RangeIndex: 299 entries, 0 to 298\n",
      "Data columns (total 13 columns):\n",
      " #   Column               Non-Null Count  Dtype   \n",
      "---  ------               --------------  -----   \n",
      " 0   age                  299 non-null    float64 \n",
      " 1   anaemia              299 non-null    category\n",
      " 2   CPK                  299 non-null    int64   \n",
      " 3   diabetes             299 non-null    category\n",
      " 4   ejection_fraction    299 non-null    int64   \n",
      " 5   high_blood_pressure  299 non-null    category\n",
      " 6   platelets            299 non-null    float64 \n",
      " 7   serum_creatinine     299 non-null    float64 \n",
      " 8   serum_sodium         299 non-null    int64   \n",
      " 9   sex                  299 non-null    category\n",
      " 10  smoking              299 non-null    category\n",
      " 11  time                 299 non-null    int64   \n",
      " 12  label                299 non-null    category\n",
      "dtypes: category(6), float64(3), int64(4)\n",
      "memory usage: 19.0 KB\n"
     ]
    }
   ],
   "source": [
    "dataframe.info()"
   ]
  },
  {
   "cell_type": "markdown",
   "metadata": {},
   "source": [
    "# Elimination of Time attribute (no meaning) and change de Platelets value."
   ]
  },
  {
   "cell_type": "code",
   "execution_count": 11,
   "metadata": {},
   "outputs": [],
   "source": [
    "dataframe = dataframe.drop('time', axis=1)\n",
    "dataframe.platelets = dataframe.platelets / 1000"
   ]
  },
  {
   "cell_type": "code",
   "execution_count": null,
   "metadata": {},
   "outputs": [],
   "source": [
    "dataframe.head(5)"
   ]
  },
  {
   "cell_type": "markdown",
   "metadata": {},
   "source": [
    "# Outlier Detection - LOF"
   ]
  },
  {
   "cell_type": "code",
   "execution_count": 12,
   "metadata": {},
   "outputs": [
    {
     "data": {
      "text/plain": [
       "['age',\n",
       " 'CPK',\n",
       " 'ejection_fraction',\n",
       " 'platelets',\n",
       " 'serum_creatinine',\n",
       " 'serum_sodium']"
      ]
     },
     "execution_count": 12,
     "metadata": {},
     "output_type": "execute_result"
    }
   ],
   "source": [
    "columns=list(dataframe.columns)\n",
    "numerical_columns=[c for c in columns if c not in categorical_columns]\n",
    "numerical_columns"
   ]
  },
  {
   "cell_type": "code",
   "execution_count": 13,
   "metadata": {},
   "outputs": [
    {
     "data": {
      "text/plain": [
       "['anaemia', 'diabetes', 'high_blood_pressure', 'sex', 'smoking', 'label']"
      ]
     },
     "execution_count": 13,
     "metadata": {},
     "output_type": "execute_result"
    }
   ],
   "source": [
    "categorical_columns"
   ]
  },
  {
   "cell_type": "markdown",
   "metadata": {},
   "source": [
    "## LOF"
   ]
  },
  {
   "cell_type": "code",
   "execution_count": 14,
   "metadata": {},
   "outputs": [],
   "source": [
    "local_outlier = LocalOutlierFactor(n_neighbors=20)\n",
    "outlier_mask = local_outlier.fit_predict(dataframe.loc[:,numerical_columns])"
   ]
  },
  {
   "cell_type": "markdown",
   "metadata": {},
   "source": [
    "We are summing the 1s that are \"inliners\" \n",
    "and the -1s that are \"outliers\""
   ]
  },
  {
   "cell_type": "code",
   "execution_count": 15,
   "metadata": {},
   "outputs": [
    {
     "data": {
      "text/plain": [
       "37"
      ]
     },
     "execution_count": 15,
     "metadata": {},
     "output_type": "execute_result"
    }
   ],
   "source": [
    "#Number of outliers \n",
    "(outlier_mask == -1).sum()"
   ]
  },
  {
   "cell_type": "code",
   "execution_count": 16,
   "metadata": {},
   "outputs": [],
   "source": [
    "mask = outlier_mask==1\n",
    "df_masked = dataframe[mask]"
   ]
  },
  {
   "cell_type": "code",
   "execution_count": 17,
   "metadata": {},
   "outputs": [
    {
     "data": {
      "text/plain": [
       "(96, 203)"
      ]
     },
     "execution_count": 17,
     "metadata": {},
     "output_type": "execute_result"
    }
   ],
   "source": [
    "(dataframe.label == 1).sum(), (dataframe.label == 0).sum()"
   ]
  },
  {
   "cell_type": "code",
   "execution_count": 18,
   "metadata": {},
   "outputs": [
    {
     "data": {
      "text/plain": [
       "(83, 179)"
      ]
     },
     "execution_count": 18,
     "metadata": {},
     "output_type": "execute_result"
    }
   ],
   "source": [
    "(df_masked.label == 1 ).sum(), (df_masked.label == 0 ).sum()"
   ]
  },
  {
   "cell_type": "code",
   "execution_count": 19,
   "metadata": {},
   "outputs": [
    {
     "data": {
      "text/plain": [
       "(13, 24)"
      ]
     },
     "execution_count": 19,
     "metadata": {},
     "output_type": "execute_result"
    }
   ],
   "source": [
    "(dataframe.label == 1).sum()-(df_masked.label == 1).sum(), (dataframe.label == 0).sum()-(df_masked.label == 0).sum()"
   ]
  },
  {
   "cell_type": "code",
   "execution_count": 20,
   "metadata": {},
   "outputs": [
    {
     "data": {
      "text/html": [
       "<div>\n",
       "<style scoped>\n",
       "    .dataframe tbody tr th:only-of-type {\n",
       "        vertical-align: middle;\n",
       "    }\n",
       "\n",
       "    .dataframe tbody tr th {\n",
       "        vertical-align: top;\n",
       "    }\n",
       "\n",
       "    .dataframe thead th {\n",
       "        text-align: right;\n",
       "    }\n",
       "</style>\n",
       "<table border=\"1\" class=\"dataframe\">\n",
       "  <thead>\n",
       "    <tr style=\"text-align: right;\">\n",
       "      <th></th>\n",
       "      <th>count</th>\n",
       "      <th>mean</th>\n",
       "      <th>std</th>\n",
       "      <th>min</th>\n",
       "      <th>25%</th>\n",
       "      <th>50%</th>\n",
       "      <th>75%</th>\n",
       "      <th>max</th>\n",
       "    </tr>\n",
       "  </thead>\n",
       "  <tbody>\n",
       "    <tr>\n",
       "      <th>age</th>\n",
       "      <td>299.0</td>\n",
       "      <td>60.833893</td>\n",
       "      <td>11.894809</td>\n",
       "      <td>40.0</td>\n",
       "      <td>51.0</td>\n",
       "      <td>60.0</td>\n",
       "      <td>70.0</td>\n",
       "      <td>95.0</td>\n",
       "    </tr>\n",
       "    <tr>\n",
       "      <th>CPK</th>\n",
       "      <td>299.0</td>\n",
       "      <td>581.839465</td>\n",
       "      <td>970.287881</td>\n",
       "      <td>23.0</td>\n",
       "      <td>116.5</td>\n",
       "      <td>250.0</td>\n",
       "      <td>582.0</td>\n",
       "      <td>7861.0</td>\n",
       "    </tr>\n",
       "    <tr>\n",
       "      <th>ejection_fraction</th>\n",
       "      <td>299.0</td>\n",
       "      <td>38.083612</td>\n",
       "      <td>11.834841</td>\n",
       "      <td>14.0</td>\n",
       "      <td>30.0</td>\n",
       "      <td>38.0</td>\n",
       "      <td>45.0</td>\n",
       "      <td>80.0</td>\n",
       "    </tr>\n",
       "    <tr>\n",
       "      <th>platelets</th>\n",
       "      <td>299.0</td>\n",
       "      <td>263.358029</td>\n",
       "      <td>97.804237</td>\n",
       "      <td>25.1</td>\n",
       "      <td>212.5</td>\n",
       "      <td>262.0</td>\n",
       "      <td>303.5</td>\n",
       "      <td>850.0</td>\n",
       "    </tr>\n",
       "    <tr>\n",
       "      <th>serum_creatinine</th>\n",
       "      <td>299.0</td>\n",
       "      <td>1.393880</td>\n",
       "      <td>1.034510</td>\n",
       "      <td>0.5</td>\n",
       "      <td>0.9</td>\n",
       "      <td>1.1</td>\n",
       "      <td>1.4</td>\n",
       "      <td>9.4</td>\n",
       "    </tr>\n",
       "    <tr>\n",
       "      <th>serum_sodium</th>\n",
       "      <td>299.0</td>\n",
       "      <td>136.628763</td>\n",
       "      <td>4.394854</td>\n",
       "      <td>114.0</td>\n",
       "      <td>134.0</td>\n",
       "      <td>137.0</td>\n",
       "      <td>140.0</td>\n",
       "      <td>148.0</td>\n",
       "    </tr>\n",
       "  </tbody>\n",
       "</table>\n",
       "</div>"
      ],
      "text/plain": [
       "                   count        mean         std    min    25%    50%    75%  \\\n",
       "age                299.0   60.833893   11.894809   40.0   51.0   60.0   70.0   \n",
       "CPK                299.0  581.839465  970.287881   23.0  116.5  250.0  582.0   \n",
       "ejection_fraction  299.0   38.083612   11.834841   14.0   30.0   38.0   45.0   \n",
       "platelets          299.0  263.358029   97.804237   25.1  212.5  262.0  303.5   \n",
       "serum_creatinine   299.0    1.393880    1.034510    0.5    0.9    1.1    1.4   \n",
       "serum_sodium       299.0  136.628763    4.394854  114.0  134.0  137.0  140.0   \n",
       "\n",
       "                      max  \n",
       "age                  95.0  \n",
       "CPK                7861.0  \n",
       "ejection_fraction    80.0  \n",
       "platelets           850.0  \n",
       "serum_creatinine      9.4  \n",
       "serum_sodium        148.0  "
      ]
     },
     "execution_count": 20,
     "metadata": {},
     "output_type": "execute_result"
    }
   ],
   "source": [
    "dataframe.describe().T"
   ]
  },
  {
   "cell_type": "code",
   "execution_count": 21,
   "metadata": {},
   "outputs": [
    {
     "data": {
      "text/html": [
       "<div>\n",
       "<style scoped>\n",
       "    .dataframe tbody tr th:only-of-type {\n",
       "        vertical-align: middle;\n",
       "    }\n",
       "\n",
       "    .dataframe tbody tr th {\n",
       "        vertical-align: top;\n",
       "    }\n",
       "\n",
       "    .dataframe thead th {\n",
       "        text-align: right;\n",
       "    }\n",
       "</style>\n",
       "<table border=\"1\" class=\"dataframe\">\n",
       "  <thead>\n",
       "    <tr style=\"text-align: right;\">\n",
       "      <th></th>\n",
       "      <th>count</th>\n",
       "      <th>mean</th>\n",
       "      <th>std</th>\n",
       "      <th>min</th>\n",
       "      <th>25%</th>\n",
       "      <th>50%</th>\n",
       "      <th>75%</th>\n",
       "      <th>max</th>\n",
       "    </tr>\n",
       "  </thead>\n",
       "  <tbody>\n",
       "    <tr>\n",
       "      <th>age</th>\n",
       "      <td>262.0</td>\n",
       "      <td>60.764634</td>\n",
       "      <td>11.609995</td>\n",
       "      <td>40.0</td>\n",
       "      <td>51.00</td>\n",
       "      <td>60.0</td>\n",
       "      <td>69.75</td>\n",
       "      <td>95.0</td>\n",
       "    </tr>\n",
       "    <tr>\n",
       "      <th>CPK</th>\n",
       "      <td>262.0</td>\n",
       "      <td>459.053435</td>\n",
       "      <td>565.656968</td>\n",
       "      <td>23.0</td>\n",
       "      <td>111.25</td>\n",
       "      <td>216.5</td>\n",
       "      <td>582.00</td>\n",
       "      <td>2794.0</td>\n",
       "    </tr>\n",
       "    <tr>\n",
       "      <th>ejection_fraction</th>\n",
       "      <td>262.0</td>\n",
       "      <td>37.893130</td>\n",
       "      <td>11.833618</td>\n",
       "      <td>14.0</td>\n",
       "      <td>30.00</td>\n",
       "      <td>38.0</td>\n",
       "      <td>45.00</td>\n",
       "      <td>80.0</td>\n",
       "    </tr>\n",
       "    <tr>\n",
       "      <th>platelets</th>\n",
       "      <td>262.0</td>\n",
       "      <td>255.066865</td>\n",
       "      <td>78.226947</td>\n",
       "      <td>73.0</td>\n",
       "      <td>210.25</td>\n",
       "      <td>255.0</td>\n",
       "      <td>294.75</td>\n",
       "      <td>742.0</td>\n",
       "    </tr>\n",
       "    <tr>\n",
       "      <th>serum_creatinine</th>\n",
       "      <td>262.0</td>\n",
       "      <td>1.381718</td>\n",
       "      <td>1.030771</td>\n",
       "      <td>0.5</td>\n",
       "      <td>0.90</td>\n",
       "      <td>1.1</td>\n",
       "      <td>1.40</td>\n",
       "      <td>9.4</td>\n",
       "    </tr>\n",
       "    <tr>\n",
       "      <th>serum_sodium</th>\n",
       "      <td>262.0</td>\n",
       "      <td>136.755725</td>\n",
       "      <td>4.298430</td>\n",
       "      <td>114.0</td>\n",
       "      <td>134.00</td>\n",
       "      <td>137.0</td>\n",
       "      <td>140.00</td>\n",
       "      <td>148.0</td>\n",
       "    </tr>\n",
       "  </tbody>\n",
       "</table>\n",
       "</div>"
      ],
      "text/plain": [
       "                   count        mean         std    min     25%    50%  \\\n",
       "age                262.0   60.764634   11.609995   40.0   51.00   60.0   \n",
       "CPK                262.0  459.053435  565.656968   23.0  111.25  216.5   \n",
       "ejection_fraction  262.0   37.893130   11.833618   14.0   30.00   38.0   \n",
       "platelets          262.0  255.066865   78.226947   73.0  210.25  255.0   \n",
       "serum_creatinine   262.0    1.381718    1.030771    0.5    0.90    1.1   \n",
       "serum_sodium       262.0  136.755725    4.298430  114.0  134.00  137.0   \n",
       "\n",
       "                      75%     max  \n",
       "age                 69.75    95.0  \n",
       "CPK                582.00  2794.0  \n",
       "ejection_fraction   45.00    80.0  \n",
       "platelets          294.75   742.0  \n",
       "serum_creatinine     1.40     9.4  \n",
       "serum_sodium       140.00   148.0  "
      ]
     },
     "execution_count": 21,
     "metadata": {},
     "output_type": "execute_result"
    }
   ],
   "source": [
    "dataframe = df_masked\n",
    "df_masked.describe().T"
   ]
  },
  {
   "cell_type": "code",
   "execution_count": 22,
   "metadata": {},
   "outputs": [
    {
     "data": {
      "text/html": [
       "<div>\n",
       "<style scoped>\n",
       "    .dataframe tbody tr th:only-of-type {\n",
       "        vertical-align: middle;\n",
       "    }\n",
       "\n",
       "    .dataframe tbody tr th {\n",
       "        vertical-align: top;\n",
       "    }\n",
       "\n",
       "    .dataframe thead th {\n",
       "        text-align: right;\n",
       "    }\n",
       "</style>\n",
       "<table border=\"1\" class=\"dataframe\">\n",
       "  <thead>\n",
       "    <tr style=\"text-align: right;\">\n",
       "      <th></th>\n",
       "      <th>age</th>\n",
       "      <th>anaemia</th>\n",
       "      <th>CPK</th>\n",
       "      <th>diabetes</th>\n",
       "      <th>ejection_fraction</th>\n",
       "      <th>high_blood_pressure</th>\n",
       "      <th>platelets</th>\n",
       "      <th>serum_creatinine</th>\n",
       "      <th>serum_sodium</th>\n",
       "      <th>sex</th>\n",
       "      <th>smoking</th>\n",
       "      <th>label</th>\n",
       "    </tr>\n",
       "  </thead>\n",
       "  <tbody>\n",
       "    <tr>\n",
       "      <th>0</th>\n",
       "      <td>75.0</td>\n",
       "      <td>no_anaemia</td>\n",
       "      <td>582</td>\n",
       "      <td>no_diabetes</td>\n",
       "      <td>20</td>\n",
       "      <td>HBP</td>\n",
       "      <td>265.0</td>\n",
       "      <td>1.9</td>\n",
       "      <td>130</td>\n",
       "      <td>male</td>\n",
       "      <td>no_smoking</td>\n",
       "      <td>Dead</td>\n",
       "    </tr>\n",
       "    <tr>\n",
       "      <th>2</th>\n",
       "      <td>65.0</td>\n",
       "      <td>no_anaemia</td>\n",
       "      <td>146</td>\n",
       "      <td>no_diabetes</td>\n",
       "      <td>20</td>\n",
       "      <td>no_HBP</td>\n",
       "      <td>162.0</td>\n",
       "      <td>1.3</td>\n",
       "      <td>129</td>\n",
       "      <td>male</td>\n",
       "      <td>smoking</td>\n",
       "      <td>Dead</td>\n",
       "    </tr>\n",
       "  </tbody>\n",
       "</table>\n",
       "</div>"
      ],
      "text/plain": [
       "    age     anaemia  CPK     diabetes  ejection_fraction high_blood_pressure  \\\n",
       "0  75.0  no_anaemia  582  no_diabetes                 20                 HBP   \n",
       "2  65.0  no_anaemia  146  no_diabetes                 20              no_HBP   \n",
       "\n",
       "   platelets  serum_creatinine  serum_sodium   sex     smoking label  \n",
       "0      265.0               1.9           130  male  no_smoking  Dead  \n",
       "2      162.0               1.3           129  male     smoking  Dead  "
      ]
     },
     "execution_count": 22,
     "metadata": {},
     "output_type": "execute_result"
    }
   ],
   "source": [
    "class2name = {0: 'Alive', 1:'Dead'}\n",
    "dataframe.loc[:, 'label'] = dataframe.apply(lambda r: class2name[r['label']], axis=1)\n",
    "dataframe.head(2)"
   ]
  },
  {
   "cell_type": "code",
   "execution_count": null,
   "metadata": {},
   "outputs": [],
   "source": [
    "import plotly.express as px\n",
    "\n",
    "fig = px.box(dataframe, y=numerical_columns[5], color='label',\n",
    "                     color_discrete_map={'Dead': 'coral', 'Alive': 'rgb(99, 180, 250)'}, width=400, height=400)\n",
    "fig.update_layout({'paper_bgcolor' : 'rgba(0, 0, 0, 0)'})\n",
    "fig.show()"
   ]
  },
  {
   "cell_type": "markdown",
   "metadata": {},
   "source": [
    "# Train - Test split "
   ]
  },
  {
   "cell_type": "markdown",
   "metadata": {},
   "source": [
    "75% - 25% split  "
   ]
  },
  {
   "cell_type": "code",
   "execution_count": 23,
   "metadata": {},
   "outputs": [
    {
     "data": {
      "text/plain": [
       "Alive    0.683206\n",
       "Dead     0.316794\n",
       "Name: label, dtype: float64"
      ]
     },
     "execution_count": 23,
     "metadata": {},
     "output_type": "execute_result"
    }
   ],
   "source": [
    "X = dataframe.drop(['label'], axis=1)\n",
    "y = dataframe['label']\n",
    "# Percentage of labels\n",
    "y.value_counts(normalize=True)"
   ]
  },
  {
   "cell_type": "code",
   "execution_count": 24,
   "metadata": {},
   "outputs": [
    {
     "data": {
      "text/plain": [
       "((196, 11), (196,), (66, 11), (66,))"
      ]
     },
     "execution_count": 24,
     "metadata": {},
     "output_type": "execute_result"
    }
   ],
   "source": [
    "X_train, X_test, y_train, y_test = train_test_split(X, y, test_size=0.25, random_state=42, shuffle=True, stratify=y)\n",
    "X_train.shape, y_train.shape, X_test.shape, y_test.shape"
   ]
  },
  {
   "cell_type": "markdown",
   "metadata": {},
   "source": [
    "# Standardization of Numerical Attributes"
   ]
  },
  {
   "cell_type": "code",
   "execution_count": 25,
   "metadata": {},
   "outputs": [
    {
     "data": {
      "text/plain": [
       "Int64Index([ 56, 200, 128, 149, 170, 118,  71, 236, 278,  70,\n",
       "            ...\n",
       "            274,  59, 253,  57,  79, 145, 211, 252, 250, 163],\n",
       "           dtype='int64', length=196)"
      ]
     },
     "execution_count": 25,
     "metadata": {},
     "output_type": "execute_result"
    }
   ],
   "source": [
    "X_train.index"
   ]
  },
  {
   "cell_type": "code",
   "execution_count": 26,
   "metadata": {},
   "outputs": [],
   "source": [
    "scaler = RobustScaler()\n",
    "fitted_scaler = scaler.fit(X=X_train.loc[:, numerical_columns])\n",
    "\n",
    "X_train_scaled = fitted_scaler.transform(X_train.loc[:, numerical_columns])\n",
    "X_test_scaled = fitted_scaler.transform(X_test.loc[:, numerical_columns])"
   ]
  },
  {
   "cell_type": "code",
   "execution_count": 27,
   "metadata": {},
   "outputs": [
    {
     "data": {
      "text/plain": [
       "((196, 6), (66, 6))"
      ]
     },
     "execution_count": 27,
     "metadata": {},
     "output_type": "execute_result"
    }
   ],
   "source": [
    "X_train_scaled_df = pd.DataFrame(X_train_scaled, columns=numerical_columns, index=X_train.index)\n",
    "X_test_scaled_df = pd.DataFrame(X_test_scaled, columns=numerical_columns,  index=X_test.index)\n",
    "X_train_scaled.shape, X_test_scaled.shape"
   ]
  },
  {
   "cell_type": "code",
   "execution_count": 28,
   "metadata": {},
   "outputs": [
    {
     "data": {
      "text/html": [
       "<div>\n",
       "<style scoped>\n",
       "    .dataframe tbody tr th:only-of-type {\n",
       "        vertical-align: middle;\n",
       "    }\n",
       "\n",
       "    .dataframe tbody tr th {\n",
       "        vertical-align: top;\n",
       "    }\n",
       "\n",
       "    .dataframe thead th {\n",
       "        text-align: right;\n",
       "    }\n",
       "</style>\n",
       "<table border=\"1\" class=\"dataframe\">\n",
       "  <thead>\n",
       "    <tr style=\"text-align: right;\">\n",
       "      <th></th>\n",
       "      <th>age</th>\n",
       "      <th>CPK</th>\n",
       "      <th>ejection_fraction</th>\n",
       "      <th>platelets</th>\n",
       "      <th>serum_creatinine</th>\n",
       "      <th>serum_sodium</th>\n",
       "    </tr>\n",
       "  </thead>\n",
       "  <tbody>\n",
       "    <tr>\n",
       "      <th>56</th>\n",
       "      <td>0.555556</td>\n",
       "      <td>-0.337259</td>\n",
       "      <td>-0.200000</td>\n",
       "      <td>-0.255319</td>\n",
       "      <td>3.2</td>\n",
       "      <td>0.166667</td>\n",
       "    </tr>\n",
       "    <tr>\n",
       "      <th>200</th>\n",
       "      <td>0.166667</td>\n",
       "      <td>3.285867</td>\n",
       "      <td>0.466667</td>\n",
       "      <td>-1.851064</td>\n",
       "      <td>-0.8</td>\n",
       "      <td>0.000000</td>\n",
       "    </tr>\n",
       "  </tbody>\n",
       "</table>\n",
       "</div>"
      ],
      "text/plain": [
       "          age       CPK  ejection_fraction  platelets  serum_creatinine  \\\n",
       "56   0.555556 -0.337259          -0.200000  -0.255319               3.2   \n",
       "200  0.166667  3.285867           0.466667  -1.851064              -0.8   \n",
       "\n",
       "     serum_sodium  \n",
       "56       0.166667  \n",
       "200      0.000000  "
      ]
     },
     "execution_count": 28,
     "metadata": {},
     "output_type": "execute_result"
    }
   ],
   "source": [
    "X_train_scaled_df.head(2)"
   ]
  },
  {
   "cell_type": "markdown",
   "metadata": {},
   "source": [
    "Boxplots"
   ]
  },
  {
   "cell_type": "code",
   "execution_count": null,
   "metadata": {},
   "outputs": [],
   "source": [
    "boxplots = X_train_scaled_df.assign(label = y_train)"
   ]
  },
  {
   "cell_type": "code",
   "execution_count": null,
   "metadata": {},
   "outputs": [],
   "source": [
    "boxplots.head(2)"
   ]
  },
  {
   "cell_type": "code",
   "execution_count": null,
   "metadata": {},
   "outputs": [],
   "source": [
    "numerical_columns"
   ]
  },
  {
   "cell_type": "code",
   "execution_count": null,
   "metadata": {},
   "outputs": [],
   "source": [
    "import plotly.express as px\n",
    "\n",
    "fig = px.box(boxplots, y=numerical_columns[5], color='label',\n",
    "                     color_discrete_map={'Dead': 'coral', 'Alive': 'rgb(99, 180, 250)'}, width=400, height=400)\n",
    "fig.update_layout({'paper_bgcolor' : 'rgba(0, 0, 0, 0)'})\n",
    "fig.show()"
   ]
  },
  {
   "cell_type": "markdown",
   "metadata": {},
   "source": [
    "# Encoding of the Categorical Features "
   ]
  },
  {
   "cell_type": "code",
   "execution_count": 27,
   "metadata": {},
   "outputs": [],
   "source": [
    "Params.drop_first = True"
   ]
  },
  {
   "cell_type": "code",
   "execution_count": 28,
   "metadata": {},
   "outputs": [
    {
     "data": {
      "text/plain": [
       "(['anaemia', 'diabetes', 'high_blood_pressure', 'sex', 'smoking'], True)"
      ]
     },
     "execution_count": 28,
     "metadata": {},
     "output_type": "execute_result"
    }
   ],
   "source": [
    "#Omitting label from categorical columns\n",
    "categorical_columns[:-1], Params.drop_first"
   ]
  },
  {
   "cell_type": "code",
   "execution_count": 29,
   "metadata": {},
   "outputs": [
    {
     "data": {
      "text/html": [
       "<div>\n",
       "<style scoped>\n",
       "    .dataframe tbody tr th:only-of-type {\n",
       "        vertical-align: middle;\n",
       "    }\n",
       "\n",
       "    .dataframe tbody tr th {\n",
       "        vertical-align: top;\n",
       "    }\n",
       "\n",
       "    .dataframe thead th {\n",
       "        text-align: right;\n",
       "    }\n",
       "</style>\n",
       "<table border=\"1\" class=\"dataframe\">\n",
       "  <thead>\n",
       "    <tr style=\"text-align: right;\">\n",
       "      <th></th>\n",
       "      <th>anaemia_no_anaemia</th>\n",
       "      <th>diabetes_no_diabetes</th>\n",
       "      <th>high_blood_pressure_no_HBP</th>\n",
       "      <th>sex_male</th>\n",
       "      <th>smoking_smoking</th>\n",
       "    </tr>\n",
       "  </thead>\n",
       "  <tbody>\n",
       "    <tr>\n",
       "      <th>56</th>\n",
       "      <td>0</td>\n",
       "      <td>1</td>\n",
       "      <td>1</td>\n",
       "      <td>1</td>\n",
       "      <td>1</td>\n",
       "    </tr>\n",
       "    <tr>\n",
       "      <th>200</th>\n",
       "      <td>0</td>\n",
       "      <td>1</td>\n",
       "      <td>1</td>\n",
       "      <td>1</td>\n",
       "      <td>0</td>\n",
       "    </tr>\n",
       "    <tr>\n",
       "      <th>128</th>\n",
       "      <td>1</td>\n",
       "      <td>1</td>\n",
       "      <td>0</td>\n",
       "      <td>1</td>\n",
       "      <td>1</td>\n",
       "    </tr>\n",
       "    <tr>\n",
       "      <th>149</th>\n",
       "      <td>1</td>\n",
       "      <td>1</td>\n",
       "      <td>0</td>\n",
       "      <td>1</td>\n",
       "      <td>0</td>\n",
       "    </tr>\n",
       "    <tr>\n",
       "      <th>170</th>\n",
       "      <td>0</td>\n",
       "      <td>0</td>\n",
       "      <td>1</td>\n",
       "      <td>1</td>\n",
       "      <td>1</td>\n",
       "    </tr>\n",
       "  </tbody>\n",
       "</table>\n",
       "</div>"
      ],
      "text/plain": [
       "     anaemia_no_anaemia  diabetes_no_diabetes  high_blood_pressure_no_HBP  \\\n",
       "56                    0                     1                           1   \n",
       "200                   0                     1                           1   \n",
       "128                   1                     1                           0   \n",
       "149                   1                     1                           0   \n",
       "170                   0                     0                           1   \n",
       "\n",
       "     sex_male  smoking_smoking  \n",
       "56          1                1  \n",
       "200         1                0  \n",
       "128         1                1  \n",
       "149         1                0  \n",
       "170         1                1  "
      ]
     },
     "execution_count": 29,
     "metadata": {},
     "output_type": "execute_result"
    }
   ],
   "source": [
    "X_train_dummy = pd.get_dummies(X_train.loc[:, categorical_columns[:-1]], drop_first=Params.drop_first)\n",
    "X_test_dummy = pd.get_dummies(X_test.loc[:, categorical_columns[:-1]], drop_first=Params.drop_first)\n",
    "X_train_dummy.head(5)"
   ]
  },
  {
   "cell_type": "code",
   "execution_count": 30,
   "metadata": {},
   "outputs": [
    {
     "data": {
      "text/html": [
       "<div>\n",
       "<style scoped>\n",
       "    .dataframe tbody tr th:only-of-type {\n",
       "        vertical-align: middle;\n",
       "    }\n",
       "\n",
       "    .dataframe tbody tr th {\n",
       "        vertical-align: top;\n",
       "    }\n",
       "\n",
       "    .dataframe thead th {\n",
       "        text-align: right;\n",
       "    }\n",
       "</style>\n",
       "<table border=\"1\" class=\"dataframe\">\n",
       "  <thead>\n",
       "    <tr style=\"text-align: right;\">\n",
       "      <th></th>\n",
       "      <th>anaemia_no_anaemia</th>\n",
       "      <th>diabetes_no_diabetes</th>\n",
       "      <th>high_blood_pressure_no_HBP</th>\n",
       "      <th>sex_male</th>\n",
       "      <th>smoking_smoking</th>\n",
       "      <th>age</th>\n",
       "      <th>CPK</th>\n",
       "      <th>ejection_fraction</th>\n",
       "      <th>platelets</th>\n",
       "      <th>serum_creatinine</th>\n",
       "      <th>serum_sodium</th>\n",
       "    </tr>\n",
       "  </thead>\n",
       "  <tbody>\n",
       "    <tr>\n",
       "      <th>56</th>\n",
       "      <td>0</td>\n",
       "      <td>1</td>\n",
       "      <td>1</td>\n",
       "      <td>1</td>\n",
       "      <td>1</td>\n",
       "      <td>0.555556</td>\n",
       "      <td>-0.337259</td>\n",
       "      <td>-0.200000</td>\n",
       "      <td>-0.255319</td>\n",
       "      <td>3.2</td>\n",
       "      <td>0.166667</td>\n",
       "    </tr>\n",
       "    <tr>\n",
       "      <th>200</th>\n",
       "      <td>0</td>\n",
       "      <td>1</td>\n",
       "      <td>1</td>\n",
       "      <td>1</td>\n",
       "      <td>0</td>\n",
       "      <td>0.166667</td>\n",
       "      <td>3.285867</td>\n",
       "      <td>0.466667</td>\n",
       "      <td>-1.851064</td>\n",
       "      <td>-0.8</td>\n",
       "      <td>0.000000</td>\n",
       "    </tr>\n",
       "  </tbody>\n",
       "</table>\n",
       "</div>"
      ],
      "text/plain": [
       "     anaemia_no_anaemia  diabetes_no_diabetes  high_blood_pressure_no_HBP  \\\n",
       "56                    0                     1                           1   \n",
       "200                   0                     1                           1   \n",
       "\n",
       "     sex_male  smoking_smoking       age       CPK  ejection_fraction  \\\n",
       "56          1                1  0.555556 -0.337259          -0.200000   \n",
       "200         1                0  0.166667  3.285867           0.466667   \n",
       "\n",
       "     platelets  serum_creatinine  serum_sodium  \n",
       "56   -0.255319               3.2      0.166667  \n",
       "200  -1.851064              -0.8      0.000000  "
      ]
     },
     "execution_count": 30,
     "metadata": {},
     "output_type": "execute_result"
    }
   ],
   "source": [
    "X_train_final = pd.concat([X_train_dummy, X_train_scaled_df], axis=1)\n",
    "X_test_final = pd.concat([X_test_dummy, X_test_scaled_df], axis=1)\n",
    "X_train_final.head(2)"
   ]
  },
  {
   "cell_type": "markdown",
   "metadata": {},
   "source": [
    "# PCA"
   ]
  },
  {
   "cell_type": "code",
   "execution_count": null,
   "metadata": {},
   "outputs": [],
   "source": [
    "pca = PCA().fit(X_train_final)"
   ]
  },
  {
   "cell_type": "code",
   "execution_count": null,
   "metadata": {},
   "outputs": [],
   "source": [
    "pca.explained_variance_ratio_"
   ]
  },
  {
   "cell_type": "code",
   "execution_count": null,
   "metadata": {},
   "outputs": [],
   "source": [
    "list(range(1,len(X_train_final.columns)+1))"
   ]
  },
  {
   "cell_type": "code",
   "execution_count": null,
   "metadata": {},
   "outputs": [],
   "source": [
    "sns.set(rc={'figure.figsize':(11,7)})\n",
    "sns.set(style=\"ticks\")\n",
    "plt.grid()\n",
    "\n",
    "sns.lineplot(x=list(range(1, len(X_train_final.columns)+1)), y=np.cumsum(pca.explained_variance_ratio_))\n",
    "plt.xlabel('number of components')\n",
    "plt.ylabel('cumulative explained variance')\n",
    "plt.tight_layout()\n",
    "x = sns.lineplot(x=list(range(1,len(X_train_final.columns)+1)), y=pca.explained_variance_ratio_)\n",
    "x.figure.savefig(\"pca.pdf\")\n",
    "plt.xlabel('number of components')\n",
    "plt.ylabel('cumulative explained variance');"
   ]
  },
  {
   "cell_type": "code",
   "execution_count": null,
   "metadata": {},
   "outputs": [],
   "source": [
    "pca.explained_variance_ratio_"
   ]
  },
  {
   "cell_type": "code",
   "execution_count": null,
   "metadata": {},
   "outputs": [],
   "source": [
    "np.cumsum(pca.explained_variance_ratio_)"
   ]
  },
  {
   "cell_type": "code",
   "execution_count": null,
   "metadata": {},
   "outputs": [],
   "source": [
    "pca = PCA()\n",
    "fitted_pca = pca.fit(X_train_final)\n",
    "\n",
    "X_train_pca = fitted_pca.transform(X_train_final)\n",
    "X_test_pca = fitted_pca.transform(X_test_final)\n",
    "X_train_pca.shape"
   ]
  },
  {
   "cell_type": "markdown",
   "metadata": {},
   "source": [
    "# Stratified K fold\n",
    "196 sample\n",
    "\n",
    "\n",
    "with 5 fold split -> 157 train and 39 \n",
    "with 3 fold split -> 130 train and 66"
   ]
  },
  {
   "cell_type": "code",
   "execution_count": null,
   "metadata": {},
   "outputs": [],
   "source": [
    "skf = StratifiedKFold(n_splits=3, shuffle=True, random_state=42)\n",
    "skf.get_n_splits(X_train_pca, y_train)\n",
    "\n",
    "from sklearn.model_selection import LeaveOneOut\n",
    "loo = LeaveOneOut()\n",
    "loo.get_n_splits(X_train_final)\n"
   ]
  },
  {
   "cell_type": "markdown",
   "metadata": {},
   "source": [
    "# Run Experiment"
   ]
  },
  {
   "cell_type": "code",
   "execution_count": null,
   "metadata": {},
   "outputs": [],
   "source": [
    "def run_experiment (X_train, X_test, y_train, y_test, model, model_name, params, skf, sampling):\n",
    "\n",
    "    if sampling=='SMOTENC':\n",
    "        pipeline = imbpipeline(steps = [['smote', SMOTENC(categorical_features=[True]*5 + [False]*6)],\n",
    "                                    ['classifier', model]])\n",
    "\n",
    "\n",
    "    #Grid Search \n",
    "    grid = GridSearchCV(estimator=pipeline,\n",
    "                                     scoring='f1',\n",
    "                                     param_grid=params, \n",
    "                                     cv=skf,\n",
    "                                     refit=True, \n",
    "                                     n_jobs=-1) #modello testato è quello trainato precedentemente su tutto il dataset\n",
    "\n",
    "    results = grid.fit(X_train, y_train)\n",
    "    report = classification_report(y_test, results.predict(X_test))\n",
    "    \n",
    "    print(\"========================\")\n",
    "    print(report)\n",
    "    print(\"========================\")\n",
    "    \n",
    "    #Plot \n",
    "\n",
    "    fig, axes = plt.subplots( 1, 2, figsize=(25,7))\n",
    "\n",
    "    fig.suptitle(f\"{model_name}\")\n",
    "\n",
    "    axes[0].grid(False)\n",
    "    axes[0].set_title(\"Confusion Matrix\")\n",
    "    plot_confusion_matrix(results.best_estimator_, X_test, y_test, ax=axes[0],\n",
    "                                display_labels=['alive', 'dead'],\n",
    "                                cmap=plt.cm.Blues,\n",
    "                                normalize='true')\n",
    "\n",
    "    axes[1].set_title(\"Roc Curve\")\n",
    "    plot_roc_curve(results.best_estimator_, X_test, y_test, ax=axes[1])\n",
    "\n",
    "    plt.show()\n",
    "    return results\n"
   ]
  },
  {
   "cell_type": "markdown",
   "metadata": {},
   "source": [
    "# Models "
   ]
  },
  {
   "cell_type": "markdown",
   "metadata": {},
   "source": [
    "## Random Forest"
   ]
  },
  {
   "cell_type": "code",
   "execution_count": null,
   "metadata": {},
   "outputs": [],
   "source": [
    "random_forest = RandomForestClassifier(n_jobs=-1, random_state=10)\n",
    "\n",
    "param_random_forest = { 'smote__sampling_strategy':[\"minority\", 'all', 'auto'],\n",
    "                        'smote__k_neighbors': [5,7,8,10],\n",
    "                        'classifier__n_estimators': [200, 100, 150, 50, 5, 15, 30, 40],\n",
    "                        'classifier__criterion': ['gini', 'entropy', 'log_loss'],\n",
    "                        'classifier__max_depth': [ 10, 15, 20, 25, 30, 35]\n",
    "                        }\n",
    "for m in ['SMOTENC']:\n",
    "    title = f'Random Forest with {m}'   \n",
    "    results = run_experiment(X_train_pca, X_test_pca, y_train, y_test, random_forest, title, param_random_forest, skf, m)\n",
    "    print(\"-------------------------------------------------------\")\n",
    "    print(f\"best Score Random Forest = {results.best_score_}\")\n",
    "    print(f\"best parameter Random Forest = {results.best_params_}\") "
   ]
  },
  {
   "cell_type": "markdown",
   "metadata": {},
   "source": [
    "# LOGISTIC REGRESSION"
   ]
  },
  {
   "cell_type": "code",
   "execution_count": null,
   "metadata": {},
   "outputs": [],
   "source": [
    "from sklearn.linear_model import LogisticRegression\n",
    "logistic = LogisticRegression(solver='liblinear', random_state=42)\n",
    "param_logistic = {'smote__sampling_strategy':[\"minority\", 'all', 'auto'],\n",
    "                  'smote__k_neighbors': [5,7,8,10],\n",
    "                  'classifier__penalty': ['l1', 'l2'],\n",
    "                  'classifier__C': [0.001, 0.01, 0.02, 0.05, 0.08, .1, .15, .2],\n",
    "                }\n",
    "\n",
    "\n",
    "#title = f'Logistic Regression'\n",
    "#evaluate_model(X, y, logistic, title, param_logistic, skf, 'BorderlineSMOTE')\n",
    "for m in ['SMOTENC']:\n",
    "    title = f'Logistic Regression with {m}'   \n",
    "    results = run_experiment(X_train_pca, X_test_pca, y_train, y_test, logistic, title, param_logistic, skf, m)\n",
    "    print(\"-------------------------------------------------------\")\n",
    "    print(f\"best Score Logistic Regression = {results.best_score_}\")\n",
    "    print(f\"best parameter Logistic Regression = {results.best_params_}\") "
   ]
  },
  {
   "cell_type": "markdown",
   "metadata": {},
   "source": [
    "# SVM"
   ]
  },
  {
   "cell_type": "code",
   "execution_count": null,
   "metadata": {},
   "outputs": [],
   "source": [
    "from sklearn.svm import SVC\n",
    "svm = SVC(kernel = 'linear', random_state = 42 )  \n",
    "param_svm = {   'smote__sampling_strategy':[\"minority\", 'all'],\n",
    "                'smote__k_neighbors': [5,7,8,10],\n",
    "                'classifier__C'     : [.001, .01, .1,  1, 2, 5, 7, 10],\n",
    "                'classifier__gamma' : ['auto', 'scale']  }\n",
    "\n",
    "for m in ['SMOTENC']:\n",
    "    title = f'SVM (linear) with {m}'   \n",
    "    results = run_experiment(X_train_pca, X_test_pca, y_train, y_test, svm, title, param_svm, skf, m)\n",
    "    print(\"-------------------------------------------------------\")\n",
    "    print(f\"best Score SVM (linear) = {results.best_score_}\")\n",
    "    print(f\"best parameter SVM  (linear) = {results.best_params_}\") \n"
   ]
  },
  {
   "cell_type": "code",
   "execution_count": null,
   "metadata": {},
   "outputs": [],
   "source": [
    "from sklearn.svm import SVC\n",
    "svm = SVC(kernel = 'poly', random_state = 42 )  \n",
    "param_svm = {   'smote__sampling_strategy':[\"minority\", 'all'],\n",
    "                'smote__k_neighbors': [5,7,8,10],\n",
    "                'classifier__C'     : [.001, .01, .1,  1, 2, 5, 7, 10],\n",
    "                'classifier__gamma' : ['auto', 'scale']  }\n",
    "\n",
    "for m in ['SMOTENC']:\n",
    "    title = f'SVM (poly) with {m}'   \n",
    "    results = run_experiment(X_train_pca, X_test_pca, y_train, y_test, svm, title, param_svm, skf, m)\n",
    "    print(\"-------------------------------------------------------\")\n",
    "    print(f\"best Score SVM (poly) = {results.best_score_}\")\n",
    "    print(f\"best parameter SVM (poly) = {results.best_params_}\") \n"
   ]
  },
  {
   "cell_type": "code",
   "execution_count": null,
   "metadata": {},
   "outputs": [],
   "source": [
    "from sklearn.svm import SVC\n",
    "svm = SVC(kernel = 'rbf', random_state = 42 )  \n",
    "param_svm = {   'smote__sampling_strategy':[\"minority\", 'all'],\n",
    "                'smote__k_neighbors': [5,7,8,10],\n",
    "                'classifier__C'     : [.001, .01, .1,  1, 2, 5, 7, 10],\n",
    "                'classifier__gamma' : ['auto', 'scale']  }\n",
    "\n",
    "for m in ['SMOTENC']:\n",
    "    title = f'SVM (rbf) with {m}'   \n",
    "    results = run_experiment(X_train_pca, X_test_pca, y_train, y_test, svm, title, param_svm, skf, m)\n",
    "    print(\"-------------------------------------------------------\")\n",
    "    print(f\"best Score SVM (rbf) = {results.best_score_}\")\n",
    "    print(f\"best parameter SVM (rbf) = {results.best_params_}\") "
   ]
  }
 ],
 "metadata": {
  "kernelspec": {
   "display_name": "Python 3.9.13 ('MML')",
   "language": "python",
   "name": "python3"
  },
  "language_info": {
   "codemirror_mode": {
    "name": "ipython",
    "version": 3
   },
   "file_extension": ".py",
   "mimetype": "text/x-python",
   "name": "python",
   "nbconvert_exporter": "python",
   "pygments_lexer": "ipython3",
   "version": "3.9.13"
  },
  "orig_nbformat": 4,
  "vscode": {
   "interpreter": {
    "hash": "baf272c2b97818f7354187bec12fd38d4151ebbfd4915dca6a9228973e200cda"
   }
  }
 },
 "nbformat": 4,
 "nbformat_minor": 2
}
